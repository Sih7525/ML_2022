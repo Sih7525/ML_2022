{
  "nbformat": 4,
  "nbformat_minor": 0,
  "metadata": {
    "colab": {
      "name": "알고리즘&자료구조.ipynb",
      "provenance": [],
      "authorship_tag": "ABX9TyPDbrNvysUp0Gum9qIGyFEM",
      "include_colab_link": true
    },
    "kernelspec": {
      "name": "python3",
      "display_name": "Python 3"
    },
    "language_info": {
      "name": "python"
    }
  },
  "cells": [
    {
      "cell_type": "markdown",
      "metadata": {
        "id": "view-in-github",
        "colab_type": "text"
      },
      "source": [
        "<a href=\"https://colab.research.google.com/github/Sih7525/ML_2022/blob/main/%EC%95%8C%EA%B3%A0%EB%A6%AC%EC%A6%98%26%EC%9E%90%EB%A3%8C%EA%B5%AC%EC%A1%B0.ipynb\" target=\"_parent\"><img src=\"https://colab.research.google.com/assets/colab-badge.svg\" alt=\"Open In Colab\"/></a>"
      ]
    },
    {
      "cell_type": "code",
      "execution_count": null,
      "metadata": {
        "id": "iXeTiTN_FGMo"
      },
      "outputs": [],
      "source": [
        "# 알고리즘 ??\n",
        "\n",
        "# 문제를 해결하기 위한 처리 절차를 구체적인 순서에 따라 표현한 아이디어나 생각\n",
        "# 알고리즘 자체는 일상생활에서도 많이 사용되고 있다.\n",
        "# 요리의 레시피, 음악의 악보, 가전제품 사용설명서...\n",
        "\n",
        "# 알고리즘을 프로그랭밍 언어로(파이썬, 자바, 씨...)기술하면 프로그램이다.\n",
        "\n",
        "# 알고리즘을 작성하는 방법에는 프로그래밍 언어, 수도코드, 흐름도 등이 있다."
      ]
    },
    {
      "cell_type": "code",
      "source": [
        "# 1부터 n까지의 정수의 합을 구하는 알고리즘\n",
        "\n",
        "# 1부터 10까지의 정수\n",
        "# 1 + 2의 결과 3을 기억\n",
        "# 기억해둔 3에 다음숫자인 3을 더한 6 기억\n",
        "# 기억해둔 6에 다음숫자인 4를 더한 10을 기억\n",
        "\n",
        "#......다음 숫자인 10을 더한 55기억\n",
        "# 마지막 저장한 숫자를 출력\n",
        "\n",
        "s = 0 # 값을 누적시킬 변수\n",
        "n = 100# 더할 마지막 수\n",
        "\n",
        "for i in range(1,n+1):\n",
        "  s += i # s = s + 1\n",
        "print(s)\n",
        "\n"
      ],
      "metadata": {
        "colab": {
          "base_uri": "https://localhost:8080/"
        },
        "id": "LjlDChPfIHJR",
        "outputId": "d77e94f8-cbf8-4acd-c015-22d656e37eaa"
      },
      "execution_count": null,
      "outputs": [
        {
          "output_type": "stream",
          "name": "stdout",
          "text": [
            "5050\n"
          ]
        }
      ]
    },
    {
      "cell_type": "code",
      "source": [
        "def sum_m(m):\n",
        "  return m*(m+1) // 2\n",
        "\n",
        "print(sum_m(10))"
      ],
      "metadata": {
        "colab": {
          "base_uri": "https://localhost:8080/"
        },
        "id": "07mTXbxiJTp7",
        "outputId": "b3b3b570-d944-4e89-b54e-a6bc9422b551"
      },
      "execution_count": null,
      "outputs": [
        {
          "output_type": "stream",
          "name": "stdout",
          "text": [
            "55\n"
          ]
        }
      ]
    },
    {
      "cell_type": "code",
      "source": [
        "# 최대값 찾기\n",
        "# 전체 리스트의 갯수를 구한다.\n",
        "# 일단, 첫번째(0번째)값을 최대값이라고 가정한다.\n",
        "# 두번째 값부터 첫번째값과 비교하여 둘 중 큰값을 다시 최대값으로 설정한다.\n",
        "# 세번째 값을 다시 임시 최대값과 비교하여 임시 최대값으로 설정한다.\n",
        "\n",
        "def find_max(a):\n",
        "  n = len(a)\n",
        "  mx = a[0]\n",
        "  for i in range(1, n):\n",
        "    if a[i] > mx:\n",
        "      mx = a[i]\n",
        "  return mx\n",
        "\n",
        "print(find_max([4,6,8,1,3,9]))"
      ],
      "metadata": {
        "colab": {
          "base_uri": "https://localhost:8080/"
        },
        "id": "H9ImTNiVKUNj",
        "outputId": "945ea48a-079f-48ce-b4ed-cdc66447d3f2"
      },
      "execution_count": null,
      "outputs": [
        {
          "output_type": "stream",
          "name": "stdout",
          "text": [
            "9\n"
          ]
        }
      ]
    },
    {
      "cell_type": "code",
      "source": [
        "# 자료구조 stack, queue\n",
        "# stack 스택 - LIFO(Last in First out), 데이터가 입력되면 순서대로 쌓고\n",
        "#     나중에 들어온 것부터 먼저 나간다. \n",
        "\n",
        "\n",
        "def stack():\n",
        "  stacklist = []\n",
        "\n",
        "  stacklist.append(1)\n",
        "  stacklist.append(2)\n",
        "  stacklist.append(3)\n",
        "  stacklist.append(4)\n",
        "  stacklist.append(5)\n",
        "\n",
        "  while stacklist:\n",
        "    print('pop value is ', stacklist.pop())\n",
        "\n",
        "stack()"
      ],
      "metadata": {
        "colab": {
          "base_uri": "https://localhost:8080/"
        },
        "id": "PN2svzf_LLuN",
        "outputId": "7545af31-cbf0-4593-93d2-f11f15c95aae"
      },
      "execution_count": null,
      "outputs": [
        {
          "output_type": "stream",
          "name": "stdout",
          "text": [
            "pop value is  5\n",
            "pop value is  4\n",
            "pop value is  3\n",
            "pop value is  2\n",
            "pop value is  1\n"
          ]
        }
      ]
    },
    {
      "cell_type": "code",
      "source": [
        "# stack 활용\n",
        "list = []\n",
        "while True:\n",
        "  site = input('방문할 사이트 주소를 입력(이전 사이트는 back) : ')\n",
        "  if site != 'back':\n",
        "    list.append(site)\n",
        "  else:\n",
        "    list.pop()\n",
        "\n",
        "  if len(list) != 0:\n",
        "    print('현재 방문 중인 사이트는 ', list[-1],'입니다.')\n",
        "  else:\n",
        "    print('방문 중인 사이트가 현재 없습니다. ')"
      ],
      "metadata": {
        "colab": {
          "base_uri": "https://localhost:8080/",
          "height": 631
        },
        "id": "K1YdfxtOPGY9",
        "outputId": "bd7b4543-5efd-4fe5-b79f-19dcebdd963e"
      },
      "execution_count": null,
      "outputs": [
        {
          "output_type": "stream",
          "name": "stdout",
          "text": [
            "방문할 사이트 주소를 입력(이전 사이트는 back) : naver.com\n",
            "현재 방문 중인 사이트는  naver.com 입니다.\n",
            "방문할 사이트 주소를 입력(이전 사이트는 back) : daum.com\n",
            "현재 방문 중인 사이트는  daum.com 입니다.\n"
          ]
        },
        {
          "output_type": "error",
          "ename": "KeyboardInterrupt",
          "evalue": "ignored",
          "traceback": [
            "\u001b[0;31m---------------------------------------------------------------------------\u001b[0m",
            "\u001b[0;31mKeyboardInterrupt\u001b[0m                         Traceback (most recent call last)",
            "\u001b[0;32m/usr/local/lib/python3.7/dist-packages/ipykernel/kernelbase.py\u001b[0m in \u001b[0;36m_input_request\u001b[0;34m(self, prompt, ident, parent, password)\u001b[0m\n\u001b[1;32m    728\u001b[0m             \u001b[0;32mtry\u001b[0m\u001b[0;34m:\u001b[0m\u001b[0;34m\u001b[0m\u001b[0;34m\u001b[0m\u001b[0m\n\u001b[0;32m--> 729\u001b[0;31m                 \u001b[0mident\u001b[0m\u001b[0;34m,\u001b[0m \u001b[0mreply\u001b[0m \u001b[0;34m=\u001b[0m \u001b[0mself\u001b[0m\u001b[0;34m.\u001b[0m\u001b[0msession\u001b[0m\u001b[0;34m.\u001b[0m\u001b[0mrecv\u001b[0m\u001b[0;34m(\u001b[0m\u001b[0mself\u001b[0m\u001b[0;34m.\u001b[0m\u001b[0mstdin_socket\u001b[0m\u001b[0;34m,\u001b[0m \u001b[0;36m0\u001b[0m\u001b[0;34m)\u001b[0m\u001b[0;34m\u001b[0m\u001b[0;34m\u001b[0m\u001b[0m\n\u001b[0m\u001b[1;32m    730\u001b[0m             \u001b[0;32mexcept\u001b[0m \u001b[0mException\u001b[0m\u001b[0;34m:\u001b[0m\u001b[0;34m\u001b[0m\u001b[0;34m\u001b[0m\u001b[0m\n",
            "\u001b[0;32m/usr/local/lib/python3.7/dist-packages/jupyter_client/session.py\u001b[0m in \u001b[0;36mrecv\u001b[0;34m(self, socket, mode, content, copy)\u001b[0m\n\u001b[1;32m    802\u001b[0m         \u001b[0;32mtry\u001b[0m\u001b[0;34m:\u001b[0m\u001b[0;34m\u001b[0m\u001b[0;34m\u001b[0m\u001b[0m\n\u001b[0;32m--> 803\u001b[0;31m             \u001b[0mmsg_list\u001b[0m \u001b[0;34m=\u001b[0m \u001b[0msocket\u001b[0m\u001b[0;34m.\u001b[0m\u001b[0mrecv_multipart\u001b[0m\u001b[0;34m(\u001b[0m\u001b[0mmode\u001b[0m\u001b[0;34m,\u001b[0m \u001b[0mcopy\u001b[0m\u001b[0;34m=\u001b[0m\u001b[0mcopy\u001b[0m\u001b[0;34m)\u001b[0m\u001b[0;34m\u001b[0m\u001b[0;34m\u001b[0m\u001b[0m\n\u001b[0m\u001b[1;32m    804\u001b[0m         \u001b[0;32mexcept\u001b[0m \u001b[0mzmq\u001b[0m\u001b[0;34m.\u001b[0m\u001b[0mZMQError\u001b[0m \u001b[0;32mas\u001b[0m \u001b[0me\u001b[0m\u001b[0;34m:\u001b[0m\u001b[0;34m\u001b[0m\u001b[0;34m\u001b[0m\u001b[0m\n",
            "\u001b[0;32m/usr/local/lib/python3.7/dist-packages/zmq/sugar/socket.py\u001b[0m in \u001b[0;36mrecv_multipart\u001b[0;34m(self, flags, copy, track)\u001b[0m\n\u001b[1;32m    624\u001b[0m         \"\"\"\n\u001b[0;32m--> 625\u001b[0;31m         \u001b[0mparts\u001b[0m \u001b[0;34m=\u001b[0m \u001b[0;34m[\u001b[0m\u001b[0mself\u001b[0m\u001b[0;34m.\u001b[0m\u001b[0mrecv\u001b[0m\u001b[0;34m(\u001b[0m\u001b[0mflags\u001b[0m\u001b[0;34m,\u001b[0m \u001b[0mcopy\u001b[0m\u001b[0;34m=\u001b[0m\u001b[0mcopy\u001b[0m\u001b[0;34m,\u001b[0m \u001b[0mtrack\u001b[0m\u001b[0;34m=\u001b[0m\u001b[0mtrack\u001b[0m\u001b[0;34m)\u001b[0m\u001b[0;34m]\u001b[0m\u001b[0;34m\u001b[0m\u001b[0;34m\u001b[0m\u001b[0m\n\u001b[0m\u001b[1;32m    626\u001b[0m         \u001b[0;31m# have first part already, only loop while more to receive\u001b[0m\u001b[0;34m\u001b[0m\u001b[0;34m\u001b[0m\u001b[0;34m\u001b[0m\u001b[0m\n",
            "\u001b[0;32mzmq/backend/cython/socket.pyx\u001b[0m in \u001b[0;36mzmq.backend.cython.socket.Socket.recv\u001b[0;34m()\u001b[0m\n",
            "\u001b[0;32mzmq/backend/cython/socket.pyx\u001b[0m in \u001b[0;36mzmq.backend.cython.socket.Socket.recv\u001b[0;34m()\u001b[0m\n",
            "\u001b[0;32mzmq/backend/cython/socket.pyx\u001b[0m in \u001b[0;36mzmq.backend.cython.socket._recv_copy\u001b[0;34m()\u001b[0m\n",
            "\u001b[0;32m/usr/local/lib/python3.7/dist-packages/zmq/backend/cython/checkrc.pxd\u001b[0m in \u001b[0;36mzmq.backend.cython.checkrc._check_rc\u001b[0;34m()\u001b[0m\n",
            "\u001b[0;31mKeyboardInterrupt\u001b[0m: ",
            "\nDuring handling of the above exception, another exception occurred:\n",
            "\u001b[0;31mKeyboardInterrupt\u001b[0m                         Traceback (most recent call last)",
            "\u001b[0;32m<ipython-input-22-6fa62b7b67b2>\u001b[0m in \u001b[0;36m<module>\u001b[0;34m()\u001b[0m\n\u001b[1;32m      2\u001b[0m \u001b[0mlist\u001b[0m \u001b[0;34m=\u001b[0m \u001b[0;34m[\u001b[0m\u001b[0;34m]\u001b[0m\u001b[0;34m\u001b[0m\u001b[0;34m\u001b[0m\u001b[0m\n\u001b[1;32m      3\u001b[0m \u001b[0;32mwhile\u001b[0m \u001b[0;32mTrue\u001b[0m\u001b[0;34m:\u001b[0m\u001b[0;34m\u001b[0m\u001b[0;34m\u001b[0m\u001b[0m\n\u001b[0;32m----> 4\u001b[0;31m   \u001b[0msite\u001b[0m \u001b[0;34m=\u001b[0m \u001b[0minput\u001b[0m\u001b[0;34m(\u001b[0m\u001b[0;34m'방문할 사이트 주소를 입력(이전 사이트는 back) : '\u001b[0m\u001b[0;34m)\u001b[0m\u001b[0;34m\u001b[0m\u001b[0;34m\u001b[0m\u001b[0m\n\u001b[0m\u001b[1;32m      5\u001b[0m   \u001b[0;32mif\u001b[0m \u001b[0msite\u001b[0m \u001b[0;34m!=\u001b[0m \u001b[0;34m'back'\u001b[0m\u001b[0;34m:\u001b[0m\u001b[0;34m\u001b[0m\u001b[0;34m\u001b[0m\u001b[0m\n\u001b[1;32m      6\u001b[0m     \u001b[0mlist\u001b[0m\u001b[0;34m.\u001b[0m\u001b[0mappend\u001b[0m\u001b[0;34m(\u001b[0m\u001b[0msite\u001b[0m\u001b[0;34m)\u001b[0m\u001b[0;34m\u001b[0m\u001b[0;34m\u001b[0m\u001b[0m\n",
            "\u001b[0;32m/usr/local/lib/python3.7/dist-packages/ipykernel/kernelbase.py\u001b[0m in \u001b[0;36mraw_input\u001b[0;34m(self, prompt)\u001b[0m\n\u001b[1;32m    702\u001b[0m             \u001b[0mself\u001b[0m\u001b[0;34m.\u001b[0m\u001b[0m_parent_ident\u001b[0m\u001b[0;34m,\u001b[0m\u001b[0;34m\u001b[0m\u001b[0;34m\u001b[0m\u001b[0m\n\u001b[1;32m    703\u001b[0m             \u001b[0mself\u001b[0m\u001b[0;34m.\u001b[0m\u001b[0m_parent_header\u001b[0m\u001b[0;34m,\u001b[0m\u001b[0;34m\u001b[0m\u001b[0;34m\u001b[0m\u001b[0m\n\u001b[0;32m--> 704\u001b[0;31m             \u001b[0mpassword\u001b[0m\u001b[0;34m=\u001b[0m\u001b[0;32mFalse\u001b[0m\u001b[0;34m,\u001b[0m\u001b[0;34m\u001b[0m\u001b[0;34m\u001b[0m\u001b[0m\n\u001b[0m\u001b[1;32m    705\u001b[0m         )\n\u001b[1;32m    706\u001b[0m \u001b[0;34m\u001b[0m\u001b[0m\n",
            "\u001b[0;32m/usr/local/lib/python3.7/dist-packages/ipykernel/kernelbase.py\u001b[0m in \u001b[0;36m_input_request\u001b[0;34m(self, prompt, ident, parent, password)\u001b[0m\n\u001b[1;32m    732\u001b[0m             \u001b[0;32mexcept\u001b[0m \u001b[0mKeyboardInterrupt\u001b[0m\u001b[0;34m:\u001b[0m\u001b[0;34m\u001b[0m\u001b[0;34m\u001b[0m\u001b[0m\n\u001b[1;32m    733\u001b[0m                 \u001b[0;31m# re-raise KeyboardInterrupt, to truncate traceback\u001b[0m\u001b[0;34m\u001b[0m\u001b[0;34m\u001b[0m\u001b[0;34m\u001b[0m\u001b[0m\n\u001b[0;32m--> 734\u001b[0;31m                 \u001b[0;32mraise\u001b[0m \u001b[0mKeyboardInterrupt\u001b[0m\u001b[0;34m\u001b[0m\u001b[0;34m\u001b[0m\u001b[0m\n\u001b[0m\u001b[1;32m    735\u001b[0m             \u001b[0;32melse\u001b[0m\u001b[0;34m:\u001b[0m\u001b[0;34m\u001b[0m\u001b[0;34m\u001b[0m\u001b[0m\n\u001b[1;32m    736\u001b[0m                 \u001b[0;32mbreak\u001b[0m\u001b[0;34m\u001b[0m\u001b[0;34m\u001b[0m\u001b[0m\n",
            "\u001b[0;31mKeyboardInterrupt\u001b[0m: "
          ]
        }
      ]
    },
    {
      "cell_type": "code",
      "source": [
        "#큐 queue  FIFO First in First out 데이터가 입력되면 그 순서대로 쌓고 들어온 것\n",
        "#부터 먼저 나가는 자료구조\n",
        "\n",
        "def queue():\n",
        "  qlist = []\n",
        "  qlist.append(1)\n",
        "  qlist.append(2)\n",
        "  qlist.append(3)\n",
        "  qlist.append(4)\n",
        "  qlist.append(5)\n",
        "\n",
        "  while qlist:\n",
        "    print(\"Get Value: \", qlist.pop(0))\n",
        "\n",
        "queue()"
      ],
      "metadata": {
        "colab": {
          "base_uri": "https://localhost:8080/"
        },
        "id": "VfwqizrISbBz",
        "outputId": "13a3a4fc-e4dc-4408-d8f0-a65371c9468a"
      },
      "execution_count": null,
      "outputs": [
        {
          "output_type": "stream",
          "name": "stdout",
          "text": [
            "Get Value:  1\n",
            "Get Value:  2\n",
            "Get Value:  3\n",
            "Get Value:  4\n",
            "Get Value:  5\n"
          ]
        }
      ]
    },
    {
      "cell_type": "code",
      "source": [
        "# queue 활용 예시\n",
        "\n",
        "list = []\n",
        "\n",
        "while True:\n",
        "  fname = input('출력할 파일을 입력하세요(0을 누르면 출력시작)')\n",
        "  if fname != '0':\n",
        "    list.append(fname)\n",
        "  else:\n",
        "    print('출력을 시작합니다.')\n",
        "    no = 1\n",
        "    while list:\n",
        "      print(no, '번째 파일을 출력합니다.', list.pop(0))\n",
        "      no += 1\n",
        "    print('모든 파일 출력을 완료하였습니다.')\n",
        "    break"
      ],
      "metadata": {
        "colab": {
          "base_uri": "https://localhost:8080/"
        },
        "id": "1iiyTs70Sm8Y",
        "outputId": "675006c0-abe1-4541-d214-24b6dea7f5bb"
      },
      "execution_count": null,
      "outputs": [
        {
          "output_type": "stream",
          "name": "stdout",
          "text": [
            "출력할 파일을 입력하세요(0을 누르면 출력시작)doc.hwp\n",
            "출력할 파일을 입력하세요(0을 누르면 출력시작)doc2.hwp\n",
            "출력할 파일을 입력하세요(0을 누르면 출력시작)0\n",
            "출력을 시작합니다.\n",
            "1 번째 파일을 출력합니다. doc.hwp\n",
            "2 번째 파일을 출력합니다. doc2.hwp\n",
            "모든 파일 출력을 완료하였습니다.\n"
          ]
        }
      ]
    },
    {
      "cell_type": "code",
      "source": [
        "# palindrome\n",
        "#리스트 두개를 만들어서 한쪽은 스택, 다른 한 쪽은 큐로 뽑아서 비교한 다음에 같으면 맡고 아니면 다르다.\n",
        "\n",
        "def palin(s):\n",
        "  qu = []\n",
        "  st = []\n",
        "  \n",
        "  for i in s:\n",
        "    if i.isalpha(): # isalpha는 알파벳인지 물어보는거\n",
        "    qu.append(i.lower()) # lower는 소문자로 변환\n",
        "    st.append(i.lower())\n",
        "\n",
        "  while qu:\n",
        "     if qu.pop(0) != st.pop():\n",
        "       return False\n",
        "    return True\n",
        "  \n",
        "    \n",
        "print(palin('wow')) \n"
      ],
      "metadata": {
        "colab": {
          "base_uri": "https://localhost:8080/",
          "height": 135
        },
        "id": "9DHfOkcCZpJw",
        "outputId": "a16339a4-60a0-402e-fc2e-dd813ce8d8e9"
      },
      "execution_count": null,
      "outputs": [
        {
          "output_type": "error",
          "ename": "IndentationError",
          "evalue": "ignored",
          "traceback": [
            "\u001b[0;36m  File \u001b[0;32m\"<ipython-input-37-b5b8344db51b>\"\u001b[0;36m, line \u001b[0;32m10\u001b[0m\n\u001b[0;31m    qu.append(i.lower())\u001b[0m\n\u001b[0m     ^\u001b[0m\n\u001b[0;31mIndentationError\u001b[0m\u001b[0;31m:\u001b[0m expected an indented block\n"
          ]
        }
      ]
    },
    {
      "cell_type": "code",
      "source": [
        "# 괄호 확인\n",
        "# (2+3) * 4     (2+3) * 4)\n",
        "\n",
        "def check(a):\n",
        "\n",
        "  stack =[]\n",
        "  for k in a:\n",
        "    if k == '(':\n",
        "      stack.append(k)\n",
        "    elif k == ')':\n",
        "      if len(stack)==0:\n",
        "        print(\"NO\")\n",
        "        return\n",
        "      else:\n",
        "        stack.pop()\n",
        "\n",
        "  if len(stack) == 0:\n",
        "    print(\"YES\")\n",
        "    return # 함수에서 나갈때는 return을 쓴다. break는 while문에 쓰인다.\n",
        "\n",
        "  else:\n",
        "    print(\"NO\")\n",
        "    return\n",
        "\n",
        "\n",
        "a = input('확인을 원하는 수식을 입력하세요')\n",
        "check(a)"
      ],
      "metadata": {
        "colab": {
          "base_uri": "https://localhost:8080/"
        },
        "id": "D5x8Vg9Rdamz",
        "outputId": "2cf901f6-128d-443f-e386-cb3e893efcda"
      },
      "execution_count": null,
      "outputs": [
        {
          "output_type": "stream",
          "name": "stdout",
          "text": [
            "확인을 원하는 수식을 입력하세요 (2+3) * 4)\n",
            "NO\n"
          ]
        }
      ]
    },
    {
      "cell_type": "code",
      "source": [],
      "metadata": {
        "id": "LXKouysbmb_d"
      },
      "execution_count": null,
      "outputs": []
    }
  ]
}